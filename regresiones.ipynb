{
 "metadata": {
  "name": "",
  "signature": "sha256:98c368c3178a16ab46b4057b1e4638a1d770c88be51176f65d1dabdeef866f11"
 },
 "nbformat": 3,
 "nbformat_minor": 0,
 "worksheets": [
  {
   "cells": [
    {
     "cell_type": "code",
     "collapsed": false,
     "input": [
      "%pylab inline\n",
      "import pandas as pd\n",
      "import numpy as np\n",
      "from datetime import datetime, date, time, timedelta\n",
      "import calendar\n",
      "import csv\n",
      "from sklearn.metrics import mean_squared_error\n",
      "from sklearn.linear_model import Ridge\n",
      "from sklearn import linear_model\n",
      "from sklearn.ensemble import ExtraTreesRegressor\n",
      "from sklearn.neighbors import KNeighborsRegressor\n",
      "from sklearn.linear_model import LinearRegression\n",
      "from sklearn.linear_model import RidgeCV\n",
      "from sklearn import linear_model, metrics\n",
      "from sklearn.preprocessing import PolynomialFeatures\n",
      "from sklearn.pipeline import make_pipeline"
     ],
     "language": "python",
     "metadata": {},
     "outputs": [
      {
       "output_type": "stream",
       "stream": "stdout",
       "text": [
        "Populating the interactive namespace from numpy and matplotlib\n"
       ]
      }
     ],
     "prompt_number": 1
    },
    {
     "cell_type": "code",
     "collapsed": false,
     "input": [
      "#Cargar los archivos\n",
      "df_test = pd.read_csv(\"test_set.csv\") #Arvhivo para testing\n",
      "df_training = pd.read_csv(\"training_set.csv\") #Archivo para el training"
     ],
     "language": "python",
     "metadata": {},
     "outputs": [],
     "prompt_number": 2
    },
    {
     "cell_type": "code",
     "collapsed": false,
     "input": [
      "#funcion para leer csv --Fuente: Kaggle\n",
      "def read_csv(file_path, has_header = True):\n",
      "    with open(file_path) as f:\n",
      "        if has_header: f.readline()\n",
      "        data = []\n",
      "        for line in f:\n",
      "            line = line.strip().split(\",\")\n",
      "            data.append([float(x) for x in line])\n",
      "    return data"
     ],
     "language": "python",
     "metadata": {},
     "outputs": [],
     "prompt_number": 3
    },
    {
     "cell_type": "code",
     "collapsed": false,
     "input": [
      "#Funci\u00f3n para escirbir los archivos de resultados\n",
      "def escribir_resultados(data_frame, prediccion, numero):\n",
      "    with open('submit_' + str(numero)+'.csv', 'w') as csvfile:\n",
      "        fieldnames = ['fecha', 'conteo_ordenes']\n",
      "        writer = csv.DictWriter(csvfile, fieldnames=fieldnames)\n",
      "\n",
      "        writer.writeheader()\n",
      "        for i in range(len(data_frame.iloc[:,0])):\n",
      "            writer.writerow({'fecha': data_frame.iloc[:,0][i], 'conteo_ordenes': prediccion[i]})\n",
      "    csvfile.close()"
     ],
     "language": "python",
     "metadata": {},
     "outputs": [],
     "prompt_number": 4
    },
    {
     "cell_type": "code",
     "collapsed": false,
     "input": [
      "#TRAIN\n",
      "#Transformar las fechas y los eventos meteorologicos para poder graficarlos y obtener la mayor informacion de ellos\n",
      "formato = \"%Y-%m-%d\"\n",
      "train_date = []\n",
      "#Transformar fechas para poder tratarlas y graficarlas\n",
      "for fecha in df_training.iloc[:,0]:\n",
      "    train_date.append(datetime.strptime(fecha, formato))\n",
      "#Extraer informacion de las fechas\n",
      "train_mes = []\n",
      "train_dias = []\n",
      "train_dia_semana = []\n",
      "for fecha in train_date:\n",
      "    train_mes.append(fecha.month)\n",
      "    train_dias.append(fecha.day)\n",
      "    train_dia_semana.append(datetime.weekday(fecha))\n",
      "#Transformar los eventos para poder tratarlos y graficarlos\n",
      "train_evento = []\n",
      "for dato in df_training.iloc[:,7]:\n",
      "    if dato == \"Ninguno\": train_evento.append(0)\n",
      "    elif dato == \"Lluvia\": train_evento.append(1)\n",
      "    elif dato == \"Nieve\": train_evento.append(2)\n",
      "    else: train_evento.append(3)"
     ],
     "language": "python",
     "metadata": {},
     "outputs": [],
     "prompt_number": 5
    },
    {
     "cell_type": "code",
     "collapsed": false,
     "input": [
      "#DATA\n",
      "#Transformar las fechas y los eventos meteorologicos para poder graficarlos y obtener la mayor informacion de ellos\n",
      "formato = \"%Y-%m-%d\"\n",
      "data_date = []\n",
      "#Transformar fechas para poder tratarlas y graficarlas\n",
      "for fecha in df_test.iloc[:,0]:\n",
      "    data_date.append(datetime.strptime(fecha, formato))\n",
      "#Extraer informacion de las fechas\n",
      "data_mes = []\n",
      "data_dias = []\n",
      "data_dia_semana = []\n",
      "for fecha in data_date:\n",
      "    data_mes.append(fecha.month)\n",
      "    data_dias.append(fecha.day)\n",
      "    data_dia_semana.append(datetime.weekday(fecha))\n",
      "#Transformar los eventos para poder tratarlos y graficarlos\n",
      "data_evento = []\n",
      "for dato in df_test.iloc[:,6]:\n",
      "    if dato == \"Ninguno\": data_evento.append(0)\n",
      "    elif dato == \"Lluvia\": data_evento.append(1)\n",
      "    elif dato == \"Nieve\": data_evento.append(2)\n",
      "    else: data_evento.append(3)"
     ],
     "language": "python",
     "metadata": {},
     "outputs": [],
     "prompt_number": 6
    },
    {
     "cell_type": "code",
     "collapsed": false,
     "input": [
      "#Graficar los datos contra el target para conocerlos\n",
      "figsize(18,15)\n",
      "plt.subplot(4,3,1)\n",
      "scatter(train_date, df_training.iloc[:,2])\n",
      "title(\"Fecha Vs Ordenes\")\n",
      "plt.subplot(4,3,2)\n",
      "scatter(train_dias, df_training.iloc[:,2])\n",
      "title(\"Dias Vs Ordenes\")\n",
      "plt.subplot(4,3,3)\n",
      "scatter(train_dia_semana, df_training.iloc[:,2])\n",
      "title(\"Dia de la semana Vs Ordenes\")\n",
      "plt.subplot(4,3,4)\n",
      "scatter(train_mes, df_training.iloc[:,2])\n",
      "title(\"Mes Vs Ordenes\")\n",
      "plt.subplot(4,3,5)\n",
      "scatter(df_training.iloc[:,1], df_training.iloc[:,2])\n",
      "title(\"Evento Vs Ordenes\")\n",
      "plt.subplot(4,3,6)\n",
      "scatter(df_training.iloc[:,3], df_training.iloc[:,2])\n",
      "title(\"Conteo Restaurantes Vs Ordenes\")\n",
      "plt.subplot(4,3,7)\n",
      "scatter(df_training.iloc[:,4], df_training.iloc[:,2])\n",
      "title(\"T min Vs Ordenes\")\n",
      "plt.subplot(4,3,8)\n",
      "scatter(df_training.iloc[:,5], df_training.iloc[:,2])\n",
      "title(\"T Max Vs Ordenes\")\n",
      "plt.subplot(4,3,9)\n",
      "scatter(df_training.iloc[:,6], df_training.iloc[:,2])\n",
      "title(\"Precipitacion Vs Ordenes\")\n",
      "plt.subplot(4,3,11)\n",
      "scatter(train_evento, df_training.iloc[:,2])\n",
      "title(\"Clima Vs Ordenes\")\n",
      "plt.show()"
     ],
     "language": "python",
     "metadata": {},
     "outputs": [
      {
       "metadata": {},
       "output_type": "display_data",
       "png": "[encoded data removed]",
       "text": [
        "<matplotlib.figure.Figure at 0xabb4216c>"
       ]
      }
     ],
     "prompt_number": 7
    },
    {
     "cell_type": "markdown",
     "metadata": {},
     "source": [
      "#Ahora debemos reerscribir el archivo de prueba para poder hacer las regresiones"
     ]
    },
    {
     "cell_type": "code",
     "collapsed": false,
     "input": [
      "#TRAIN\n",
      "with open('train_1.csv', 'w') as csvfile:\n",
      "    train_fieldnames = ['conteo_ordenes', #'fecha',\n",
      "                  'dia', 'dia_semana', 'mes', 'cod_calendario', 'conteo_restaurantes',\n",
      "                  'temp_max', 'temp_min', 'precipitacion', 'eventos']\n",
      "    writer = csv.DictWriter(csvfile, fieldnames=train_fieldnames)\n",
      "\n",
      "    writer.writeheader()\n",
      "    for i in range(len(df_training.iloc[:,0])):\n",
      "        writer.writerow({'conteo_ordenes': df_training.iloc[:,2][i], #'fecha': df_training.iloc[:,0][i],\n",
      "                         'dia': train_dias[i],\n",
      "                         'dia_semana': train_dia_semana[i], 'mes': train_mes[i], 'cod_calendario': df_training.iloc[:,1][i],\n",
      "                         'conteo_restaurantes': df_training.iloc[:,3][i], #'temp_max': df_training.iloc[:,4][i],\n",
      "                         #'temp_min': df_training.iloc[:,5][i],\n",
      "                         'precipitacion': df_training.iloc[:,6][i], \n",
      "                         'eventos': train_evento[i]})\n",
      "csvfile.close()\n",
      "\n",
      "#TEST\n",
      "with open('test_1.csv', 'w') as csvfile:\n",
      "    data_fieldnames = [#'fecha',\n",
      "                  'dia', 'dia_semana', 'mes', 'cod_calendario', 'conteo_restaurantes',\n",
      "                  'temp_max', 'temp_min', 'precipitacion', 'eventos']\n",
      "    writer = csv.DictWriter(csvfile, fieldnames=data_fieldnames)\n",
      "\n",
      "    writer.writeheader()\n",
      "    for i in range(len(df_test.iloc[:,0])):\n",
      "        writer.writerow({#'fecha': df_test.iloc[:,0][i],\n",
      "                         'dia': data_dias[i],\n",
      "                         'dia_semana': data_dia_semana[i], 'mes': data_mes[i], 'cod_calendario': df_test.iloc[:,1][i],\n",
      "                         'conteo_restaurantes': df_test.iloc[:,2][i], #'temp_max': df_test.iloc[:,3][i],\n",
      "                         #'temp_min': df_test.iloc[:,4][i], \n",
      "                         'precipitacion': df_test.iloc[:,5][i], \n",
      "                         'eventos': data_evento[i]})\n",
      "csvfile.close()"
     ],
     "language": "python",
     "metadata": {},
     "outputs": [],
     "prompt_number": 538
    },
    {
     "cell_type": "code",
     "collapsed": false,
     "input": [
      "#read in the training and test data\n",
      "train = read_csv(\"train_1.csv\")\n",
      "test = read_csv(\"test_1.csv\")\n",
      "#the first column of the training set will be the target for the random forest classifier\n",
      "target = [x[0] for x in train]\n",
      "train = [x[1:] for x in train]"
     ],
     "language": "python",
     "metadata": {},
     "outputs": [
      {
       "ename": "ValueError",
       "evalue": "could not convert string to float: ",
       "output_type": "pyerr",
       "traceback": [
        "\u001b[0;31m---------------------------------------------------------------------------\u001b[0m\n\u001b[0;31mValueError\u001b[0m                                Traceback (most recent call last)",
        "\u001b[0;32m<ipython-input-539-ac428d94323b>\u001b[0m in \u001b[0;36m<module>\u001b[0;34m()\u001b[0m\n\u001b[1;32m      1\u001b[0m \u001b[0;31m#read in the training and test data\u001b[0m\u001b[0;34m\u001b[0m\u001b[0;34m\u001b[0m\u001b[0m\n\u001b[0;32m----> 2\u001b[0;31m \u001b[0mtrain\u001b[0m \u001b[0;34m=\u001b[0m \u001b[0mread_csv\u001b[0m\u001b[0;34m(\u001b[0m\u001b[0;34m\"train_1.csv\"\u001b[0m\u001b[0;34m)\u001b[0m\u001b[0;34m\u001b[0m\u001b[0m\n\u001b[0m\u001b[1;32m      3\u001b[0m \u001b[0mtest\u001b[0m \u001b[0;34m=\u001b[0m \u001b[0mread_csv\u001b[0m\u001b[0;34m(\u001b[0m\u001b[0;34m\"test_1.csv\"\u001b[0m\u001b[0;34m)\u001b[0m\u001b[0;34m\u001b[0m\u001b[0m\n\u001b[1;32m      4\u001b[0m \u001b[0;31m#the first column of the training set will be the target for the random forest classifier\u001b[0m\u001b[0;34m\u001b[0m\u001b[0;34m\u001b[0m\u001b[0m\n\u001b[1;32m      5\u001b[0m \u001b[0mtarget\u001b[0m \u001b[0;34m=\u001b[0m \u001b[0;34m[\u001b[0m\u001b[0mx\u001b[0m\u001b[0;34m[\u001b[0m\u001b[0;36m0\u001b[0m\u001b[0;34m]\u001b[0m \u001b[0;32mfor\u001b[0m \u001b[0mx\u001b[0m \u001b[0;32min\u001b[0m \u001b[0mtrain\u001b[0m\u001b[0;34m]\u001b[0m\u001b[0;34m\u001b[0m\u001b[0m\n",
        "\u001b[0;32m<ipython-input-3-59fc5c4ec347>\u001b[0m in \u001b[0;36mread_csv\u001b[0;34m(file_path, has_header)\u001b[0m\n\u001b[1;32m      6\u001b[0m         \u001b[0;32mfor\u001b[0m \u001b[0mline\u001b[0m \u001b[0;32min\u001b[0m \u001b[0mf\u001b[0m\u001b[0;34m:\u001b[0m\u001b[0;34m\u001b[0m\u001b[0m\n\u001b[1;32m      7\u001b[0m             \u001b[0mline\u001b[0m \u001b[0;34m=\u001b[0m \u001b[0mline\u001b[0m\u001b[0;34m.\u001b[0m\u001b[0mstrip\u001b[0m\u001b[0;34m(\u001b[0m\u001b[0;34m)\u001b[0m\u001b[0;34m.\u001b[0m\u001b[0msplit\u001b[0m\u001b[0;34m(\u001b[0m\u001b[0;34m\",\"\u001b[0m\u001b[0;34m)\u001b[0m\u001b[0;34m\u001b[0m\u001b[0m\n\u001b[0;32m----> 8\u001b[0;31m             \u001b[0mdata\u001b[0m\u001b[0;34m.\u001b[0m\u001b[0mappend\u001b[0m\u001b[0;34m(\u001b[0m\u001b[0;34m[\u001b[0m\u001b[0mfloat\u001b[0m\u001b[0;34m(\u001b[0m\u001b[0mx\u001b[0m\u001b[0;34m)\u001b[0m \u001b[0;32mfor\u001b[0m \u001b[0mx\u001b[0m \u001b[0;32min\u001b[0m \u001b[0mline\u001b[0m\u001b[0;34m]\u001b[0m\u001b[0;34m)\u001b[0m\u001b[0;34m\u001b[0m\u001b[0m\n\u001b[0m\u001b[1;32m      9\u001b[0m     \u001b[0;32mreturn\u001b[0m \u001b[0mdata\u001b[0m\u001b[0;34m\u001b[0m\u001b[0m\n",
        "\u001b[0;31mValueError\u001b[0m: could not convert string to float: "
       ]
      }
     ],
     "prompt_number": 539
    },
    {
     "cell_type": "code",
     "collapsed": false,
     "input": [
      "#split the data\n",
      "train_X = train[0:(3*len(train)/4)+1]\n",
      "train_y = target[0:(3*len(train)/4)+1]\n",
      "test_X = train[(3*len(train)/4):]\n",
      "test_y = target[(3*len(train)/4):]"
     ],
     "language": "python",
     "metadata": {},
     "outputs": [],
     "prompt_number": 10
    },
    {
     "cell_type": "markdown",
     "metadata": {},
     "source": [
      "###Rigde Model"
     ]
    },
    {
     "cell_type": "code",
     "collapsed": false,
     "input": [
      "#Ridge Model\n",
      "rdg_regressor = Ridge(alpha=1.0)\n",
      "rdg_regressor.fit(train_X, train_y) "
     ],
     "language": "python",
     "metadata": {},
     "outputs": [
      {
       "metadata": {},
       "output_type": "pyout",
       "prompt_number": 11,
       "text": [
        "Ridge(alpha=1.0, copy_X=True, fit_intercept=True, max_iter=None,\n",
        "   normalize=False, solver='auto', tol=0.001)"
       ]
      }
     ],
     "prompt_number": 11
    },
    {
     "cell_type": "code",
     "collapsed": false,
     "input": [
      "rdg_predict = rdg_regressor.predict(test_X)"
     ],
     "language": "python",
     "metadata": {},
     "outputs": [],
     "prompt_number": 12
    },
    {
     "cell_type": "code",
     "collapsed": false,
     "input": [
      "print sqrt(mean_squared_error(test_y, rdg_predict))\n",
      "rdg_accu = rdg_regressor.score(test_X, test_y)\n",
      "print(\"Accuracy: %0.2f (+/- %0.2f)\" % (rdg_accu.mean(), rdg_accu.std() * 2))"
     ],
     "language": "python",
     "metadata": {},
     "outputs": [
      {
       "output_type": "stream",
       "stream": "stdout",
       "text": [
        "87.0256884524\n",
        "Accuracy: 0.35 (+/- 0.00)\n"
       ]
      }
     ],
     "prompt_number": 13
    },
    {
     "cell_type": "code",
     "collapsed": false,
     "input": [
      "rdg_model = rdg_regressor.predict(test)"
     ],
     "language": "python",
     "metadata": {},
     "outputs": [],
     "prompt_number": 14
    },
    {
     "cell_type": "code",
     "collapsed": false,
     "input": [
      "escribir_resultados(df_test, rdg_model, 'rdg')"
     ],
     "language": "python",
     "metadata": {},
     "outputs": [],
     "prompt_number": 15
    },
    {
     "cell_type": "markdown",
     "metadata": {},
     "source": [
      "###Linear Model"
     ]
    },
    {
     "cell_type": "code",
     "collapsed": false,
     "input": [
      "lin_regressor = linear_model.LinearRegression()\n",
      "lin_regressor.fit (train_X, train_y)"
     ],
     "language": "python",
     "metadata": {},
     "outputs": [
      {
       "metadata": {},
       "output_type": "pyout",
       "prompt_number": 16,
       "text": [
        "LinearRegression(copy_X=True, fit_intercept=True, n_jobs=1, normalize=False)"
       ]
      }
     ],
     "prompt_number": 16
    },
    {
     "cell_type": "code",
     "collapsed": false,
     "input": [
      "lin_predict = lin_regressor.predict(test_X)"
     ],
     "language": "python",
     "metadata": {},
     "outputs": [],
     "prompt_number": 17
    },
    {
     "cell_type": "code",
     "collapsed": false,
     "input": [
      "print sqrt(mean_squared_error(test_y, lin_predict))\n",
      "lin_accu = lin_regressor.score(test_X, test_y)\n",
      "print(\"Accuracy: %0.2f (+/- %0.2f)\" % (lin_accu.mean(), lin_accu.std() * 2))"
     ],
     "language": "python",
     "metadata": {},
     "outputs": [
      {
       "output_type": "stream",
       "stream": "stdout",
       "text": [
        "85.4209898678\n",
        "Accuracy: 0.38 (+/- 0.00)\n"
       ]
      }
     ],
     "prompt_number": 18
    },
    {
     "cell_type": "code",
     "collapsed": false,
     "input": [
      "lin_model = lin_regressor.predict(test)"
     ],
     "language": "python",
     "metadata": {},
     "outputs": [],
     "prompt_number": 19
    },
    {
     "cell_type": "code",
     "collapsed": false,
     "input": [
      "escribir_resultados(df_test, lin_model, 'linear')"
     ],
     "language": "python",
     "metadata": {},
     "outputs": [],
     "prompt_number": 20
    },
    {
     "cell_type": "markdown",
     "metadata": {},
     "source": [
      "#Probando un poco"
     ]
    },
    {
     "cell_type": "code",
     "collapsed": false,
     "input": [
      "# Fit estimators\n",
      "ESTIMATORS = {\n",
      "    \"Extra trees\": ExtraTreesRegressor(n_estimators=10, max_features=32,\n",
      "                                       random_state=0),\n",
      "    \"K-nn\": KNeighborsRegressor(),\n",
      "    \"Linear regression\": LinearRegression(),\n",
      "    \"Ridge\": RidgeCV(),\n",
      "}"
     ],
     "language": "python",
     "metadata": {},
     "outputs": [],
     "prompt_number": 21
    },
    {
     "cell_type": "markdown",
     "metadata": {},
     "source": [
      "###K-NN Regressor"
     ]
    },
    {
     "cell_type": "code",
     "collapsed": false,
     "input": [
      "KNN_regressor = KNeighborsRegressor()\n",
      "KNN_regressor.fit(train_X, train_y)"
     ],
     "language": "python",
     "metadata": {},
     "outputs": [
      {
       "metadata": {},
       "output_type": "pyout",
       "prompt_number": 22,
       "text": [
        "KNeighborsRegressor(algorithm='auto', leaf_size=30, metric='minkowski',\n",
        "          metric_params=None, n_neighbors=5, p=2, weights='uniform')"
       ]
      }
     ],
     "prompt_number": 22
    },
    {
     "cell_type": "code",
     "collapsed": false,
     "input": [
      "KNN_predict = KNN_regressor.predict(test_X)"
     ],
     "language": "python",
     "metadata": {},
     "outputs": [],
     "prompt_number": 23
    },
    {
     "cell_type": "code",
     "collapsed": false,
     "input": [
      "print sqrt(mean_squared_error(test_y, KNN_predict))\n",
      "KNN_accu = lin_regressor.score(test_X, test_y)\n",
      "print(\"Accuracy: %0.2f (+/- %0.2f)\" % (KNN_accu.mean(), KNN_accu.std() * 2))"
     ],
     "language": "python",
     "metadata": {},
     "outputs": [
      {
       "output_type": "stream",
       "stream": "stdout",
       "text": [
        "148.43964815\n",
        "Accuracy: 0.38 (+/- 0.00)\n"
       ]
      }
     ],
     "prompt_number": 24
    },
    {
     "cell_type": "code",
     "collapsed": false,
     "input": [
      "KNN_model = KNN_regressor.predict(test)"
     ],
     "language": "python",
     "metadata": {},
     "outputs": [],
     "prompt_number": 25
    },
    {
     "cell_type": "code",
     "collapsed": false,
     "input": [
      "escribir_resultados(df_test, KNN_model, 'KNN')"
     ],
     "language": "python",
     "metadata": {},
     "outputs": [],
     "prompt_number": 26
    },
    {
     "cell_type": "markdown",
     "metadata": {},
     "source": [
      "##RidgeCV"
     ]
    },
    {
     "cell_type": "code",
     "collapsed": false,
     "input": [
      "rdgCV_regressor = RidgeCV()\n",
      "rdgCV_regressor.fit(train_X, train_y)"
     ],
     "language": "python",
     "metadata": {},
     "outputs": [
      {
       "metadata": {},
       "output_type": "pyout",
       "prompt_number": 27,
       "text": [
        "RidgeCV(alphas=array([  0.1,   1. ,  10. ]), cv=None, fit_intercept=True,\n",
        "    gcv_mode=None, normalize=False, scoring=None, store_cv_values=False)"
       ]
      }
     ],
     "prompt_number": 27
    },
    {
     "cell_type": "code",
     "collapsed": false,
     "input": [
      "rdgCV_predict = rdgCV_regressor.predict(test_X)"
     ],
     "language": "python",
     "metadata": {},
     "outputs": [],
     "prompt_number": 28
    },
    {
     "cell_type": "code",
     "collapsed": false,
     "input": [
      "print sqrt(mean_squared_error(test_y, rdgCV_predict))\n",
      "rdgCV_accu = rdgCV_regressor.score(test_X, test_y)\n",
      "print(\"Accuracy: %0.2f (+/- %0.2f)\" % (rdgCV_accu.mean(), rdgCV_accu.std() * 2))"
     ],
     "language": "python",
     "metadata": {},
     "outputs": [
      {
       "output_type": "stream",
       "stream": "stdout",
       "text": [
        "87.0256884527\n",
        "Accuracy: 0.35 (+/- 0.00)\n"
       ]
      }
     ],
     "prompt_number": 29
    },
    {
     "cell_type": "code",
     "collapsed": false,
     "input": [
      "rdgCV_model = rdgCV_regressor.predict(test)"
     ],
     "language": "python",
     "metadata": {},
     "outputs": [],
     "prompt_number": 30
    },
    {
     "cell_type": "code",
     "collapsed": false,
     "input": [
      "escribir_resultados(df_test, rdgCV_model, 'rdgCV')"
     ],
     "language": "python",
     "metadata": {},
     "outputs": [],
     "prompt_number": 31
    },
    {
     "cell_type": "markdown",
     "metadata": {},
     "source": [
      "##ExtraTrees"
     ]
    },
    {
     "cell_type": "code",
     "collapsed": false,
     "input": [
      "ET_regressor = ExtraTreesRegressor(bootstrap=True, min_samples_split=3,  max_leaf_nodes=100, n_estimators=2)\n",
      "ET_regressor.fit(train_X, train_y)"
     ],
     "language": "python",
     "metadata": {},
     "outputs": [
      {
       "metadata": {},
       "output_type": "pyout",
       "prompt_number": 259,
       "text": [
        "ExtraTreesRegressor(bootstrap=True, criterion='mse', max_depth=None,\n",
        "          max_features='auto', max_leaf_nodes=100, min_samples_leaf=1,\n",
        "          min_samples_split=3, min_weight_fraction_leaf=0.0,\n",
        "          n_estimators=2, n_jobs=1, oob_score=False, random_state=None,\n",
        "          verbose=0, warm_start=False)"
       ]
      }
     ],
     "prompt_number": 259
    },
    {
     "cell_type": "code",
     "collapsed": false,
     "input": [
      "ET_predict = ET_regressor.predict(test_X)"
     ],
     "language": "python",
     "metadata": {},
     "outputs": [],
     "prompt_number": 260
    },
    {
     "cell_type": "code",
     "collapsed": false,
     "input": [
      "print sqrt(mean_squared_error(test_y, ET_predict))\n",
      "ET_accu = ET_regressor.score(test_X, test_y)\n",
      "print(\"Accuracy: %0.2f (+/- %0.2f)\" % (ET_accu.mean(), ET_accu.std() * 2))"
     ],
     "language": "python",
     "metadata": {},
     "outputs": [
      {
       "output_type": "stream",
       "stream": "stdout",
       "text": [
        "109.085036765\n",
        "Accuracy: -0.02 (+/- 0.00)\n"
       ]
      }
     ],
     "prompt_number": 261
    },
    {
     "cell_type": "code",
     "collapsed": false,
     "input": [
      "ET_model = ET_regressor.predict(test)"
     ],
     "language": "python",
     "metadata": {},
     "outputs": [],
     "prompt_number": 170
    },
    {
     "cell_type": "code",
     "collapsed": false,
     "input": [
      "escribir_resultados(df_test, ET_model, 'ET')"
     ],
     "language": "python",
     "metadata": {},
     "outputs": [],
     "prompt_number": 171
    },
    {
     "cell_type": "markdown",
     "metadata": {},
     "source": [
      "##Theil Sen "
     ]
    },
    {
     "cell_type": "code",
     "collapsed": false,
     "input": [
      "TS_regressor = linear_model.TheilSenRegressor()\n",
      "TS_regressor.fit(train_X, train_y)"
     ],
     "language": "python",
     "metadata": {},
     "outputs": [
      {
       "metadata": {},
       "output_type": "pyout",
       "prompt_number": 164,
       "text": [
        "TheilSenRegressor(copy_X=True, fit_intercept=True, max_iter=300,\n",
        "         max_subpopulation=10000, n_jobs=1, n_subsamples=None,\n",
        "         random_state=None, tol=0.001, verbose=False)"
       ]
      }
     ],
     "prompt_number": 164
    },
    {
     "cell_type": "code",
     "collapsed": false,
     "input": [
      "TS_predict = TS_regressor.predict(test_X)"
     ],
     "language": "python",
     "metadata": {},
     "outputs": [],
     "prompt_number": 165
    },
    {
     "cell_type": "code",
     "collapsed": false,
     "input": [
      "print sqrt(mean_squared_error(test_y, TS_predict))\n",
      "TS_accu = TS_regressor.score(test_X, test_y)\n",
      "print(\"Accuracy: %0.2f (+/- %0.2f)\" % (TS_accu.mean(), TS_accu.std() * 2))"
     ],
     "language": "python",
     "metadata": {},
     "outputs": [
      {
       "output_type": "stream",
       "stream": "stdout",
       "text": [
        "85.8261504163\n",
        "Accuracy: 0.37 (+/- 0.00)\n"
       ]
      }
     ],
     "prompt_number": 166
    },
    {
     "cell_type": "code",
     "collapsed": false,
     "input": [
      "TS_model = TS_regressor.predict(test)"
     ],
     "language": "python",
     "metadata": {},
     "outputs": [],
     "prompt_number": 162
    },
    {
     "cell_type": "code",
     "collapsed": false,
     "input": [
      "escribir_resultados(df_test, TS_model, 'TS')"
     ],
     "language": "python",
     "metadata": {},
     "outputs": [],
     "prompt_number": 163
    },
    {
     "cell_type": "markdown",
     "metadata": {},
     "source": [
      "##SGDRegressor"
     ]
    },
    {
     "cell_type": "code",
     "collapsed": false,
     "input": [
      "SGDR_regressor = linear_model.SGDRegressor()\n",
      "SGDR_regressor.fit(train_X, train_y)"
     ],
     "language": "python",
     "metadata": {},
     "outputs": [
      {
       "metadata": {},
       "output_type": "pyout",
       "prompt_number": 180,
       "text": [
        "SGDRegressor(alpha=0.0001, average=False, epsilon=0.1, eta0=0.01,\n",
        "       fit_intercept=True, l1_ratio=0.15, learning_rate='invscaling',\n",
        "       loss='squared_loss', n_iter=5, penalty='l2', power_t=0.25,\n",
        "       random_state=None, shuffle=True, verbose=0, warm_start=False)"
       ]
      }
     ],
     "prompt_number": 180
    },
    {
     "cell_type": "code",
     "collapsed": false,
     "input": [
      "SGDR_predict = SGDR_regressor.decision_function(test_X)"
     ],
     "language": "python",
     "metadata": {},
     "outputs": [],
     "prompt_number": 181
    },
    {
     "cell_type": "code",
     "collapsed": false,
     "input": [
      "print sqrt(mean_squared_error(test_y, SGDR_predict))\n",
      "SGDR_accu = SGDR_regressor.score(test_X, test_y)\n",
      "print(\"Accuracy: %0.2f (+/- %0.2f)\" % (SGDR_accu.mean(), SGDR_accu.std() * 2))"
     ],
     "language": "python",
     "metadata": {},
     "outputs": [
      {
       "output_type": "stream",
       "stream": "stdout",
       "text": [
        "475054762238.0\n",
        "Accuracy: -19307459317276213248.00 (+/- 0.00)\n"
       ]
      }
     ],
     "prompt_number": 182
    },
    {
     "cell_type": "code",
     "collapsed": false,
     "input": [
      "#TODO ESO!! O_O .-."
     ],
     "language": "python",
     "metadata": {},
     "outputs": [],
     "prompt_number": 177
    },
    {
     "cell_type": "markdown",
     "metadata": {},
     "source": [
      "##ARD Regression"
     ]
    },
    {
     "cell_type": "code",
     "collapsed": false,
     "input": [
      "ARD_regressor = linear_model.ARDRegression(fit_intercept=False, lambda_1=1e-8, lambda_2=1e-8, \n",
      "                                           threshold_lambda=10, tol=0.008, )\n",
      "ARD_regressor.fit(train_X, train_y)"
     ],
     "language": "python",
     "metadata": {},
     "outputs": [
      {
       "output_type": "stream",
       "stream": "stdout",
       "text": [
        "Converged after 20 iterations\n"
       ]
      },
      {
       "metadata": {},
       "output_type": "pyout",
       "prompt_number": 327,
       "text": [
        "ARDRegression(alpha_1=1e-06, alpha_2=1e-06, compute_score=False, copy_X=True,\n",
        "       fit_intercept=False, lambda_1=1e-08, lambda_2=1e-08, n_iter=300,\n",
        "       normalize=False, threshold_lambda=10, tol=0.008, verbose=True)"
       ]
      }
     ],
     "prompt_number": 327
    },
    {
     "cell_type": "code",
     "collapsed": false,
     "input": [
      "ARD_predict = ARD_regressor.predict(test_X)"
     ],
     "language": "python",
     "metadata": {},
     "outputs": [],
     "prompt_number": 328
    },
    {
     "cell_type": "code",
     "collapsed": false,
     "input": [
      "print sqrt(mean_squared_error(test_y, ARD_predict))\n",
      "ARD_accu = ARD_regressor.score(test_X, test_y)\n",
      "print(\"Accuracy: %0.2f (+/- %0.2f)\" % (ARD_accu.mean(), ARD_accu.std() * 2))"
     ],
     "language": "python",
     "metadata": {},
     "outputs": [
      {
       "output_type": "stream",
       "stream": "stdout",
       "text": [
        "80.3335444614\n",
        "Accuracy: 0.45 (+/- 0.00)\n"
       ]
      }
     ],
     "prompt_number": 329
    },
    {
     "cell_type": "code",
     "collapsed": false,
     "input": [
      "ARD_model = ARD_regressor.predict(test)"
     ],
     "language": "python",
     "metadata": {},
     "outputs": [],
     "prompt_number": 325
    },
    {
     "cell_type": "code",
     "collapsed": false,
     "input": [
      "escribir_resultados(df_test, ARD_model, 'ARD')"
     ],
     "language": "python",
     "metadata": {},
     "outputs": [],
     "prompt_number": 326
    },
    {
     "cell_type": "markdown",
     "metadata": {},
     "source": [
      "##BayesianRidge"
     ]
    },
    {
     "cell_type": "code",
     "collapsed": false,
     "input": [
      "Byrdg_regressor = linear_model.BayesianRidge(fit_intercept=False, alpha_1=1e-3, alpha_2=1e-3, compute_score=True, copy_X=False)\n",
      "Byrdg_regressor.fit(train_X, train_y)"
     ],
     "language": "python",
     "metadata": {},
     "outputs": [
      {
       "metadata": {},
       "output_type": "pyout",
       "prompt_number": 362,
       "text": [
        "BayesianRidge(alpha_1=0.001, alpha_2=0.001, compute_score=True, copy_X=False,\n",
        "       fit_intercept=False, lambda_1=1e-06, lambda_2=1e-06, n_iter=300,\n",
        "       normalize=False, tol=0.001, verbose=False)"
       ]
      }
     ],
     "prompt_number": 362
    },
    {
     "cell_type": "code",
     "collapsed": false,
     "input": [
      "Byrdg_predict = Byrdg_regressor.predict(test_X)"
     ],
     "language": "python",
     "metadata": {},
     "outputs": [],
     "prompt_number": 363
    },
    {
     "cell_type": "code",
     "collapsed": false,
     "input": [
      "print sqrt(mean_squared_error(test_y, Byrdg_predict))\n",
      "Byrdg_accu = Byrdg_regressor.score(test_X, test_y)\n",
      "print(\"Accuracy: %0.2f (+/- %0.2f)\" % (Byrdg_accu.mean(), Byrdg_accu.std() * 2))"
     ],
     "language": "python",
     "metadata": {},
     "outputs": [
      {
       "output_type": "stream",
       "stream": "stdout",
       "text": [
        "91.9027901647\n",
        "Accuracy: 0.28 (+/- 0.00)\n"
       ]
      }
     ],
     "prompt_number": 364
    },
    {
     "cell_type": "markdown",
     "metadata": {},
     "source": [
      "####No funciona mucho al parecer :S"
     ]
    },
    {
     "cell_type": "markdown",
     "metadata": {},
     "source": [
      "##ElasticNet"
     ]
    },
    {
     "cell_type": "code",
     "collapsed": false,
     "input": [
      "EN_regressor=linear_model.ElasticNet(fit_intercept=False)\n",
      "EN_regressor.fit(train_X, train_y)"
     ],
     "language": "python",
     "metadata": {},
     "outputs": [
      {
       "metadata": {},
       "output_type": "pyout",
       "prompt_number": 369,
       "text": [
        "ElasticNet(alpha=1.0, copy_X=True, fit_intercept=False, l1_ratio=0.5,\n",
        "      max_iter=1000, normalize=False, positive=False, precompute=False,\n",
        "      random_state=None, selection='cyclic', tol=0.0001, warm_start=False)"
       ]
      }
     ],
     "prompt_number": 369
    },
    {
     "cell_type": "code",
     "collapsed": false,
     "input": [
      "EN_predict = EN_regressor.predict(test_X)"
     ],
     "language": "python",
     "metadata": {},
     "outputs": [],
     "prompt_number": 370
    },
    {
     "cell_type": "code",
     "collapsed": false,
     "input": [
      "print sqrt(mean_squared_error(test_y, EN_predict))\n",
      "EN_accu = EN_regressor.score(test_X, test_y)\n",
      "print(\"Accuracy: %0.2f (+/- %0.2f)\" % (EN_accu.mean(), EN_accu.std() * 2))"
     ],
     "language": "python",
     "metadata": {},
     "outputs": [
      {
       "output_type": "stream",
       "stream": "stdout",
       "text": [
        "113.230808285\n",
        "Accuracy: -0.10 (+/- 0.00)\n"
       ]
      }
     ],
     "prompt_number": 371
    },
    {
     "cell_type": "markdown",
     "metadata": {},
     "source": [
      "###Tampoco funciona tann bien"
     ]
    },
    {
     "cell_type": "markdown",
     "metadata": {},
     "source": [
      "##ElasticNetCV"
     ]
    },
    {
     "cell_type": "code",
     "collapsed": false,
     "input": [
      "ENCV_regressor = linear_model.ElasticNetCV(cv=4, l1_ratio=1, tol=1, n_alphas=10)\n",
      "ENCV_regressor.fit(test_X, test_y)"
     ],
     "language": "python",
     "metadata": {},
     "outputs": [
      {
       "metadata": {},
       "output_type": "pyout",
       "prompt_number": 532,
       "text": [
        "ElasticNetCV(alphas=None, copy_X=True, cv=4, eps=0.001, fit_intercept=True,\n",
        "       l1_ratio=1, max_iter=1000, n_alphas=10, n_jobs=1, normalize=False,\n",
        "       positive=False, precompute='auto', random_state=None,\n",
        "       selection='cyclic', tol=1, verbose=0)"
       ]
      }
     ],
     "prompt_number": 532
    },
    {
     "cell_type": "code",
     "collapsed": false,
     "input": [
      "ENCV_predict = ENCV_regressor.predict(test_X)"
     ],
     "language": "python",
     "metadata": {},
     "outputs": [],
     "prompt_number": 533
    },
    {
     "cell_type": "code",
     "collapsed": false,
     "input": [
      "print sqrt(mean_squared_error(test_y, ENCV_predict))\n",
      "ENCV_accu = ENCV_regressor.score(test_X, test_y)\n",
      "print(\"Accuracy: %0.2f (+/- %0.2f)\" % (ENCV_accu.mean(), ENCV_accu.std() * 2))"
     ],
     "language": "python",
     "metadata": {},
     "outputs": [
      {
       "output_type": "stream",
       "stream": "stdout",
       "text": [
        "60.8720441057\n",
        "Accuracy: 0.68 (+/- 0.00)\n"
       ]
      }
     ],
     "prompt_number": 534
    },
    {
     "cell_type": "code",
     "collapsed": false,
     "input": [
      "ENCV_model = ENCV_regressor.predict(test)"
     ],
     "language": "python",
     "metadata": {},
     "outputs": [],
     "prompt_number": 535
    },
    {
     "cell_type": "code",
     "collapsed": false,
     "input": [
      "escribir_resultados(df_test, ENCV_model, 'ENCV')"
     ],
     "language": "python",
     "metadata": {},
     "outputs": [],
     "prompt_number": 536
    },
    {
     "cell_type": "code",
     "collapsed": false,
     "input": [],
     "language": "python",
     "metadata": {},
     "outputs": []
    }
   ],
   "metadata": {}
  }
 ]
}