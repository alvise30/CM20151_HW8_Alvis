{
 "metadata": {
  "name": "",
  "signature": "sha256:d1624bfe02011ba28b90292016c0df286f3dcc9dbb7e6f65dae0290a9826013d"
 },
 "nbformat": 3,
 "nbformat_minor": 0,
 "worksheets": [
  {
   "cells": [
    {
     "cell_type": "markdown",
     "metadata": {},
     "source": [
      "M\u00e9todos Computacionales - Tarea 8\n",
      "==================================\n",
      "Elkin R. Alvis Narv\u00e1ez\n",
      "-----------------------\n",
      "###Machine Learning"
     ]
    },
    {
     "cell_type": "markdown",
     "metadata": {},
     "source": [
      "A continuaci\u00f3n se encuentran algunas regresiones utilizadas para los archivos cargados a la competencia de *Kaggle*. La regresi\u00f3n con mejor (hasta el viernes 22 de mayo de 2015 a las 12:12 AM) funcionamiento fue la de **ARC**.  \n",
      "\n",
      "***Preguntas Planteadas***   \n",
      "**1. Qu\u00e9 otros datos pueden ayudarlo a mejorar su predicci\u00f3n?**  \n",
      "El tipo de restaurante evaluado cada d\u00eda.  \n",
      "La ciudad. Se podr\u00eda escoger una muestra m\u00e1s representativa de los datos teniendo mejor conocimiento de la cultura y geograf\u00eda de la cu\u00e1l provienen estos.  \n",
      "Saber la fecha de pago\n",
      "Saber m\u00e1s sobre *Machine Learning* y sus herramientas.  \n",
      "**2. Cu\u00e1l d\u00eda de la semana presenta el n\u00famero mayor de \u00f3rdenes?**   \n",
      "Jueves.  \n",
      "**3. Cu\u00e1l d\u00eda de la semana presenta el menor n\u00famero de \u00f3rdenes?**  \n",
      "Lunes.  \n",
      "\n",
      "***Experiencia***  \n",
      "No pude mejorar mi predicci\u00f3n. Pienso que la mayor dificultad estuvo en c\u00f3mo incluir la fecha como *feature*. No es nada sencillo. Al final encontr\u00e9 un m\u00e9todo para extraer *features* de archivos de texto, pero no supe como extraer las fechas. Si se mira la gr\u00e1fica de las fechas con el n\u00famero de \u00f3rdenes contadas cada d\u00eda, podemos ver de manera clara que existe una corelaci\u00f3n fuerte entre estas (quiz\u00e1 un polyfits o un morkov arroje mejores resultados que nuestras predicciones), en otras palabras, la fecha deber\u00eda tener un gran peso en el la predicci\u00f3n del modelo, frente a las dem\u00e1s car\u00e1cteristicas. Vemos de las gr\u00e1ficas que el hecho de tener eventos favorece un poco el n\u00famero registrado. Observamos que Jueves y Viernes son los d\u00edas con mayor cantidad de pedidios, con algo de prevalencia de los Jueves. Se intent\u00f3 observar alguna relaci\u00f3n entre el d\u00eda del mes y la cantidad de pedidos, esperando que cerca de mitad y fin de mes se registrara alg\u00fan incremento, pero en la gr\u00e1fica no se puede notar nada de manera evidente. Frente a la cantidad de precipitaci\u00f3n se observ\u00f3 que no hay cambios de manera significativa si se eliminan estos datos. En cuanto respecta a las temperaturas, a pesar de no ser claro en las gr\u00e1ficas, mostraron importancia al momento de hacer las predicciones.   \n",
      "Dejando a un lado las caracter\u00edsticas y mirando los modelos, encontramos que el de menor error en el cuaderno fue ***ElasticNetCV***; sin embargo, al momento de subir esta predicci\u00f3n a *Kaggle* registr\u00f3 un *score* de m\u00e1s de 600.  \n",
      "Como cierre me gustar\u00eda a\u00f1adir, que aplicar los diferentes m\u00e9todos de regresi\u00f3n realmente es muy sencillo, lo complicado en realidad, es el tratamiento y pre-procesamiento de los datos: saber que son, su formato, la cantidad de ruido que puedan tener, etc. Evidenciamos la clave en la relaci\u00f3n con las fechas, sin embargo extraerla como *feature*, no fue posible. Considero que el $70\\%$ del truco de *Machine Learning* est\u00e1 en saber extraer las caracter\u00edsticas de forma correcta, escoger el modelo adecuado para nuestro objetivo y manipular sus par\u00e1metros.  \n",
      "\n",
      "***Comentario***\n",
      "Realic\u00e9 la parte de *SML* de un curso en internet. Realmente fue muy \u00fatil y entend\u00ed muchos conceptos. Desafortunadamente, no ser estudiante de la universidad que lo ofrec\u00eda no pude acceder a los proyectos donde se pon\u00edan en pr\u00e1ctica estos conocimientos. Lo que trato de decir es que creo q ten\u00eda claro como proceder de manera te\u00f3rica, pero no ten\u00eda la experiencia de traducirlo a c\u00f3digo.  \n",
      "Intent\u00e9 optimizar varios modelos por *Cross Validation*, pero nunca supe como visualizar en una gr\u00e1fica, el *MSE Vs CV*. Intent\u00e9 hacer algunas redes neuronales para evaluar los eventos meteorol\u00f3gicos, pero no funcion\u00f3 al momento de llevarlo a los modelos. Intent\u00e9 assignar varias proporciones a los pesos de cada *feature*, pero no fue posible insertarlo en el modelo. Lo que intento decir es que, la falta de experiencia con las HERRAMIENTAS de *ML*, desde mi punto de vista, fue lo que dificult\u00f3 el rendimiento de las predecciones hechas, tanto m\u00edas como de mis compa\u00f1eros. Como dije antes, aplicar los modelos es bastante sencillos, pero calibrarlos, escoger el mejor y jugar con nuestros datos para obtener un gran predicci\u00f3n es donde radica el secreto de este tipo de algoritmo."
     ]
    },
    {
     "cell_type": "code",
     "collapsed": false,
     "input": [
      "%pylab inline\n",
      "import pandas as pd\n",
      "import numpy as np\n",
      "from datetime import datetime, date, time, timedelta\n",
      "import calendar\n",
      "import csv\n",
      "from sklearn.metrics import mean_squared_error\n",
      "from sklearn.linear_model import Ridge\n",
      "from sklearn import linear_model\n",
      "from sklearn.ensemble import ExtraTreesRegressor\n",
      "from sklearn.neighbors import KNeighborsRegressor\n",
      "from sklearn.linear_model import LinearRegression\n",
      "from sklearn.linear_model import RidgeCV\n",
      "from sklearn import linear_model, metrics\n",
      "from sklearn.preprocessing import PolynomialFeatures\n",
      "from sklearn.pipeline import make_pipeline"
     ],
     "language": "python",
     "metadata": {},
     "outputs": [
      {
       "output_type": "stream",
       "stream": "stdout",
       "text": [
        "Populating the interactive namespace from numpy and matplotlib\n"
       ]
      }
     ],
     "prompt_number": 1
    },
    {
     "cell_type": "code",
     "collapsed": false,
     "input": [
      "#Cargar los archivos\n",
      "df_test = pd.read_csv(\"test_set.csv\") #Arvhivo para testing\n",
      "df_training = pd.read_csv(\"training_set.csv\") #Archivo para el training"
     ],
     "language": "python",
     "metadata": {},
     "outputs": [],
     "prompt_number": 2
    },
    {
     "cell_type": "code",
     "collapsed": false,
     "input": [
      "#funcion para leer csv --Fuente: Kaggle\n",
      "def read_csv(file_path, has_header = True):\n",
      "    with open(file_path) as f:\n",
      "        if has_header: f.readline()\n",
      "        data = []\n",
      "        for line in f:\n",
      "            line = line.strip().split(\",\")\n",
      "            data.append([float(x) for x in line])\n",
      "    return data"
     ],
     "language": "python",
     "metadata": {},
     "outputs": [],
     "prompt_number": 3
    },
    {
     "cell_type": "code",
     "collapsed": false,
     "input": [
      "#Funci\u00f3n para escirbir los archivos de resultados\n",
      "def escribir_resultados(data_frame, prediccion, numero):\n",
      "    with open('submit_' + str(numero)+'.csv', 'w') as csvfile:\n",
      "        fieldnames = ['fecha', 'conteo_ordenes']\n",
      "        writer = csv.DictWriter(csvfile, fieldnames=fieldnames)\n",
      "\n",
      "        writer.writeheader()\n",
      "        for i in range(len(data_frame.iloc[:,0])):\n",
      "            writer.writerow({'fecha': data_frame.iloc[:,0][i], 'conteo_ordenes': prediccion[i]})\n",
      "    csvfile.close()"
     ],
     "language": "python",
     "metadata": {},
     "outputs": [],
     "prompt_number": 4
    },
    {
     "cell_type": "code",
     "collapsed": false,
     "input": [
      "#TRAIN\n",
      "#Transformar las fechas y los eventos meteorologicos para poder graficarlos y obtener la mayor informacion de ellos\n",
      "formato = \"%Y-%m-%d\"\n",
      "train_date = []\n",
      "#Transformar fechas para poder tratarlas y graficarlas\n",
      "for fecha in df_training.iloc[:,0]:\n",
      "    train_date.append(datetime.strptime(fecha, formato))\n",
      "#Extraer informacion de las fechas\n",
      "train_mes = []\n",
      "train_dias = []\n",
      "train_dia_semana = []\n",
      "for fecha in train_date:\n",
      "    train_mes.append(fecha.month)\n",
      "    train_dias.append(fecha.day)\n",
      "    train_dia_semana.append(datetime.weekday(fecha))\n",
      "#Transformar los eventos para poder tratarlos y graficarlos\n",
      "train_evento = []\n",
      "for dato in df_training.iloc[:,7]:\n",
      "    if dato == \"Ninguno\": train_evento.append(0)\n",
      "    elif dato == \"Lluvia\": train_evento.append(1)\n",
      "    elif dato == \"Nieve\": train_evento.append(2)\n",
      "    else: train_evento.append(3)"
     ],
     "language": "python",
     "metadata": {},
     "outputs": [],
     "prompt_number": 5
    },
    {
     "cell_type": "code",
     "collapsed": false,
     "input": [
      "#DATA\n",
      "#Transformar las fechas y los eventos meteorologicos para poder graficarlos y obtener la mayor informacion de ellos\n",
      "formato = \"%Y-%m-%d\"\n",
      "data_date = []\n",
      "#Transformar fechas para poder tratarlas y graficarlas\n",
      "for fecha in df_test.iloc[:,0]:\n",
      "    data_date.append(datetime.strptime(fecha, formato))\n",
      "#Extraer informacion de las fechas\n",
      "data_mes = []\n",
      "data_dias = []\n",
      "data_dia_semana = []\n",
      "for fecha in data_date:\n",
      "    data_mes.append(fecha.month)\n",
      "    data_dias.append(fecha.day)\n",
      "    data_dia_semana.append(datetime.weekday(fecha))\n",
      "#Transformar los eventos para poder tratarlos y graficarlos\n",
      "data_evento = []\n",
      "for dato in df_test.iloc[:,6]:\n",
      "    if dato == \"Ninguno\": data_evento.append(0)\n",
      "    elif dato == \"Lluvia\": data_evento.append(1)\n",
      "    elif dato == \"Nieve\": data_evento.append(2)\n",
      "    else: data_evento.append(3)"
     ],
     "language": "python",
     "metadata": {},
     "outputs": [],
     "prompt_number": 6
    },
    {
     "cell_type": "code",
     "collapsed": false,
     "input": [
      "#Graficar los datos contra el target para conocerlos\n",
      "figsize(18,15)\n",
      "plt.subplot(4,3,1)\n",
      "scatter(train_date, df_training.iloc[:,2])\n",
      "title(\"Fecha Vs Ordenes\")\n",
      "plt.subplot(4,3,2)\n",
      "scatter(train_dias, df_training.iloc[:,2])\n",
      "title(\"Dias Vs Ordenes\")\n",
      "plt.subplot(4,3,3)\n",
      "scatter(train_dia_semana, df_training.iloc[:,2])\n",
      "title(\"Dia de la semana Vs Ordenes\")\n",
      "plt.subplot(4,3,4)\n",
      "scatter(train_mes, df_training.iloc[:,2])\n",
      "title(\"Mes Vs Ordenes\")\n",
      "plt.subplot(4,3,5)\n",
      "scatter(df_training.iloc[:,1], df_training.iloc[:,2])\n",
      "title(\"Evento Vs Ordenes\")\n",
      "plt.subplot(4,3,6)\n",
      "scatter(df_training.iloc[:,3], df_training.iloc[:,2])\n",
      "title(\"Conteo Restaurantes Vs Ordenes\")\n",
      "plt.subplot(4,3,7)\n",
      "scatter(df_training.iloc[:,4], df_training.iloc[:,2])\n",
      "title(\"T Max Vs Ordenes\")\n",
      "plt.subplot(4,3,8)\n",
      "scatter(df_training.iloc[:,5], df_training.iloc[:,2])\n",
      "title(\"T min Vs Ordenes\")\n",
      "plt.subplot(4,3,9)\n",
      "scatter(df_training.iloc[:,6], df_training.iloc[:,2])\n",
      "title(\"Precipitacion Vs Ordenes\")\n",
      "plt.subplot(4,3,11)\n",
      "scatter(train_evento, df_training.iloc[:,2])\n",
      "title(\"Clima Vs Ordenes\")\n",
      "plt.show()"
     ],
     "language": "python",
     "metadata": {},
     "outputs": [
      {
       "metadata": {},
       "output_type": "display_data",
       "png": "[encoded data removed]",
       "text": [
        "<matplotlib.figure.Figure at 0xab93596c>"
       ]
      }
     ],
     "prompt_number": 655
    },
    {
     "cell_type": "markdown",
     "metadata": {},
     "source": [
      "#Ahora debemos reerscribir el archivo de prueba para poder hacer las regresiones"
     ]
    },
    {
     "cell_type": "code",
     "collapsed": false,
     "input": [
      "#TRAIN\n",
      "with open('train_1.csv', 'w') as csvfile:\n",
      "    train_fieldnames = ['conteo_ordenes', #'fecha',\n",
      "                  'dia', 'dia_semana', 'mes', 'cod_calendario', 'conteo_restaurantes',\n",
      "                  'temp_max', 'temp_min', 'precipitacion', 'eventos']\n",
      "    writer = csv.DictWriter(csvfile, fieldnames=train_fieldnames)\n",
      "\n",
      "    writer.writeheader()\n",
      "    for i in range(len(df_training.iloc[:,0])):\n",
      "        writer.writerow({'conteo_ordenes': df_training.iloc[:,2][i], #'fecha': df_training.iloc[:,0][i],\n",
      "                         'dia': train_dias[i],\n",
      "                         'dia_semana': train_dia_semana[i], 'mes': train_mes[i], 'cod_calendario': df_training.iloc[:,1][i],\n",
      "                         'conteo_restaurantes': df_training.iloc[:,3][i], 'temp_max': df_training.iloc[:,4][i],\n",
      "                         'temp_min': df_training.iloc[:,5][i], 'precipitacion': df_training.iloc[:,6][i], \n",
      "                         'eventos': train_evento[i]})\n",
      "csvfile.close()\n",
      "\n",
      "#TEST\n",
      "with open('test_1.csv', 'w') as csvfile:\n",
      "    data_fieldnames = [#'fecha',\n",
      "                  'dia', 'dia_semana', 'mes', 'cod_calendario', 'conteo_restaurantes',\n",
      "                  'temp_max', 'temp_min', 'precipitacion', 'eventos']\n",
      "    writer = csv.DictWriter(csvfile, fieldnames=data_fieldnames)\n",
      "\n",
      "    writer.writeheader()\n",
      "    for i in range(len(df_test.iloc[:,0])):\n",
      "        writer.writerow({#'fecha': df_test.iloc[:,0][i],\n",
      "                         'dia': data_dias[i],\n",
      "                         'dia_semana': data_dia_semana[i], 'mes': data_mes[i], 'cod_calendario': df_test.iloc[:,1][i],\n",
      "                         'conteo_restaurantes': df_test.iloc[:,2][i], 'temp_max': df_test.iloc[:,3][i],\n",
      "                         'temp_min': df_test.iloc[:,4][i], 'precipitacion': df_test.iloc[:,5][i], \n",
      "                         'eventos': data_evento[i]})\n",
      "csvfile.close()"
     ],
     "language": "python",
     "metadata": {},
     "outputs": [],
     "prompt_number": 610
    },
    {
     "cell_type": "code",
     "collapsed": false,
     "input": [
      "#read in the training and test data\n",
      "train = read_csv(\"train_1.csv\")\n",
      "test = read_csv(\"test_1.csv\")\n",
      "#the first column of the training set will be the target for the random forest classifier\n",
      "target = [x[0] for x in train]\n",
      "train = [x[1:] for x in train]"
     ],
     "language": "python",
     "metadata": {},
     "outputs": [],
     "prompt_number": 611
    },
    {
     "cell_type": "code",
     "collapsed": false,
     "input": [
      "#split the data\n",
      "train_X = train[0:(3*len(train)/4)+1]\n",
      "train_y = target[0:(3*len(train)/4)+1]\n",
      "test_X = train[(3*len(train)/4):]\n",
      "test_y = target[(3*len(train)/4):]"
     ],
     "language": "python",
     "metadata": {},
     "outputs": [],
     "prompt_number": 612
    },
    {
     "cell_type": "markdown",
     "metadata": {},
     "source": [
      "###Rigde Model"
     ]
    },
    {
     "cell_type": "code",
     "collapsed": false,
     "input": [
      "#Ridge Model\n",
      "rdg_regressor = Ridge(alpha=1.0)\n",
      "rdg_regressor.fit(train_X, train_y) "
     ],
     "language": "python",
     "metadata": {},
     "outputs": [
      {
       "metadata": {},
       "output_type": "pyout",
       "prompt_number": 613,
       "text": [
        "Ridge(alpha=1.0, copy_X=True, fit_intercept=True, max_iter=None,\n",
        "   normalize=False, solver='auto', tol=0.001)"
       ]
      }
     ],
     "prompt_number": 613
    },
    {
     "cell_type": "code",
     "collapsed": false,
     "input": [
      "rdg_predict = rdg_regressor.predict(test_X)"
     ],
     "language": "python",
     "metadata": {},
     "outputs": [],
     "prompt_number": 614
    },
    {
     "cell_type": "code",
     "collapsed": false,
     "input": [
      "print sqrt(mean_squared_error(test_y, rdg_predict))\n",
      "rdg_accu = rdg_regressor.score(test_X, test_y)\n",
      "print(\"Accuracy: %0.2f (+/- %0.2f)\" % (rdg_accu.mean(), rdg_accu.std() * 2))"
     ],
     "language": "python",
     "metadata": {},
     "outputs": [
      {
       "output_type": "stream",
       "stream": "stdout",
       "text": [
        "87.0256884524\n",
        "Accuracy: 0.35 (+/- 0.00)\n"
       ]
      }
     ],
     "prompt_number": 615
    },
    {
     "cell_type": "code",
     "collapsed": false,
     "input": [
      "rdg_model = rdg_regressor.predict(test)"
     ],
     "language": "python",
     "metadata": {},
     "outputs": [],
     "prompt_number": 616
    },
    {
     "cell_type": "code",
     "collapsed": false,
     "input": [
      "escribir_resultados(df_test, rdg_model, 'rdg')"
     ],
     "language": "python",
     "metadata": {},
     "outputs": [],
     "prompt_number": 617
    },
    {
     "cell_type": "markdown",
     "metadata": {},
     "source": [
      "###Linear Model"
     ]
    },
    {
     "cell_type": "code",
     "collapsed": false,
     "input": [
      "lin_regressor = linear_model.LinearRegression()\n",
      "lin_regressor.fit (train_X, train_y)"
     ],
     "language": "python",
     "metadata": {},
     "outputs": [
      {
       "metadata": {},
       "output_type": "pyout",
       "prompt_number": 618,
       "text": [
        "LinearRegression(copy_X=True, fit_intercept=True, n_jobs=1, normalize=False)"
       ]
      }
     ],
     "prompt_number": 618
    },
    {
     "cell_type": "code",
     "collapsed": false,
     "input": [
      "lin_predict = lin_regressor.predict(test_X)"
     ],
     "language": "python",
     "metadata": {},
     "outputs": [],
     "prompt_number": 619
    },
    {
     "cell_type": "code",
     "collapsed": false,
     "input": [
      "print sqrt(mean_squared_error(test_y, lin_predict))\n",
      "lin_accu = lin_regressor.score(test_X, test_y)\n",
      "print(\"Accuracy: %0.2f (+/- %0.2f)\" % (lin_accu.mean(), lin_accu.std() * 2))"
     ],
     "language": "python",
     "metadata": {},
     "outputs": [
      {
       "output_type": "stream",
       "stream": "stdout",
       "text": [
        "85.4209898678\n",
        "Accuracy: 0.38 (+/- 0.00)\n"
       ]
      }
     ],
     "prompt_number": 620
    },
    {
     "cell_type": "code",
     "collapsed": false,
     "input": [
      "lin_model = lin_regressor.predict(test)"
     ],
     "language": "python",
     "metadata": {},
     "outputs": [],
     "prompt_number": 621
    },
    {
     "cell_type": "code",
     "collapsed": false,
     "input": [
      "escribir_resultados(df_test, lin_model, 'linear')"
     ],
     "language": "python",
     "metadata": {},
     "outputs": [],
     "prompt_number": 622
    },
    {
     "cell_type": "markdown",
     "metadata": {},
     "source": [
      "#Probando un poco"
     ]
    },
    {
     "cell_type": "code",
     "collapsed": false,
     "input": [
      "# Fit estimators\n",
      "ESTIMATORS = {\n",
      "    \"Extra trees\": ExtraTreesRegressor(n_estimators=10, max_features=32,\n",
      "                                       random_state=0),\n",
      "    \"K-nn\": KNeighborsRegressor(),\n",
      "    \"Linear regression\": LinearRegression(),\n",
      "    \"Ridge\": RidgeCV(),\n",
      "}"
     ],
     "language": "python",
     "metadata": {},
     "outputs": [],
     "prompt_number": 623
    },
    {
     "cell_type": "markdown",
     "metadata": {},
     "source": [
      "###K-NN Regressor"
     ]
    },
    {
     "cell_type": "code",
     "collapsed": false,
     "input": [
      "KNN_regressor = KNeighborsRegressor()\n",
      "KNN_regressor.fit(train_X, train_y)"
     ],
     "language": "python",
     "metadata": {},
     "outputs": [
      {
       "metadata": {},
       "output_type": "pyout",
       "prompt_number": 624,
       "text": [
        "KNeighborsRegressor(algorithm='auto', leaf_size=30, metric='minkowski',\n",
        "          metric_params=None, n_neighbors=5, p=2, weights='uniform')"
       ]
      }
     ],
     "prompt_number": 624
    },
    {
     "cell_type": "code",
     "collapsed": false,
     "input": [
      "KNN_predict = KNN_regressor.predict(test_X)"
     ],
     "language": "python",
     "metadata": {},
     "outputs": [],
     "prompt_number": 625
    },
    {
     "cell_type": "code",
     "collapsed": false,
     "input": [
      "print sqrt(mean_squared_error(test_y, KNN_predict))\n",
      "KNN_accu = lin_regressor.score(test_X, test_y)\n",
      "print(\"Accuracy: %0.2f (+/- %0.2f)\" % (KNN_accu.mean(), KNN_accu.std() * 2))"
     ],
     "language": "python",
     "metadata": {},
     "outputs": [
      {
       "output_type": "stream",
       "stream": "stdout",
       "text": [
        "148.43964815\n",
        "Accuracy: 0.38 (+/- 0.00)\n"
       ]
      }
     ],
     "prompt_number": 626
    },
    {
     "cell_type": "code",
     "collapsed": false,
     "input": [
      "KNN_model = KNN_regressor.predict(test)"
     ],
     "language": "python",
     "metadata": {},
     "outputs": [],
     "prompt_number": 627
    },
    {
     "cell_type": "code",
     "collapsed": false,
     "input": [
      "escribir_resultados(df_test, KNN_model, 'KNN')"
     ],
     "language": "python",
     "metadata": {},
     "outputs": [],
     "prompt_number": 628
    },
    {
     "cell_type": "markdown",
     "metadata": {},
     "source": [
      "##RidgeCV"
     ]
    },
    {
     "cell_type": "code",
     "collapsed": false,
     "input": [
      "rdgCV_regressor = RidgeCV()\n",
      "rdgCV_regressor.fit(train_X, train_y)"
     ],
     "language": "python",
     "metadata": {},
     "outputs": [
      {
       "metadata": {},
       "output_type": "pyout",
       "prompt_number": 629,
       "text": [
        "RidgeCV(alphas=array([  0.1,   1. ,  10. ]), cv=None, fit_intercept=True,\n",
        "    gcv_mode=None, normalize=False, scoring=None, store_cv_values=False)"
       ]
      }
     ],
     "prompt_number": 629
    },
    {
     "cell_type": "code",
     "collapsed": false,
     "input": [
      "rdgCV_predict = rdgCV_regressor.predict(test_X)"
     ],
     "language": "python",
     "metadata": {},
     "outputs": [],
     "prompt_number": 630
    },
    {
     "cell_type": "code",
     "collapsed": false,
     "input": [
      "print sqrt(mean_squared_error(test_y, rdgCV_predict))\n",
      "rdgCV_accu = rdgCV_regressor.score(test_X, test_y)\n",
      "print(\"Accuracy: %0.2f (+/- %0.2f)\" % (rdgCV_accu.mean(), rdgCV_accu.std() * 2))"
     ],
     "language": "python",
     "metadata": {},
     "outputs": [
      {
       "output_type": "stream",
       "stream": "stdout",
       "text": [
        "87.0256884527\n",
        "Accuracy: 0.35 (+/- 0.00)\n"
       ]
      }
     ],
     "prompt_number": 631
    },
    {
     "cell_type": "code",
     "collapsed": false,
     "input": [
      "rdgCV_model = rdgCV_regressor.predict(test)"
     ],
     "language": "python",
     "metadata": {},
     "outputs": [],
     "prompt_number": 632
    },
    {
     "cell_type": "code",
     "collapsed": false,
     "input": [
      "escribir_resultados(df_test, rdgCV_model, 'rdgCV')"
     ],
     "language": "python",
     "metadata": {},
     "outputs": [],
     "prompt_number": 633
    },
    {
     "cell_type": "markdown",
     "metadata": {},
     "source": [
      "##ExtraTrees"
     ]
    },
    {
     "cell_type": "code",
     "collapsed": false,
     "input": [
      "ET_regressor = ExtraTreesRegressor(bootstrap=True, min_samples_split=3,  max_leaf_nodes=100, n_estimators=2)\n",
      "ET_regressor.fit(train_X, train_y)"
     ],
     "language": "python",
     "metadata": {},
     "outputs": [
      {
       "metadata": {},
       "output_type": "pyout",
       "prompt_number": 634,
       "text": [
        "ExtraTreesRegressor(bootstrap=True, criterion='mse', max_depth=None,\n",
        "          max_features='auto', max_leaf_nodes=100, min_samples_leaf=1,\n",
        "          min_samples_split=3, min_weight_fraction_leaf=0.0,\n",
        "          n_estimators=2, n_jobs=1, oob_score=False, random_state=None,\n",
        "          verbose=0, warm_start=False)"
       ]
      }
     ],
     "prompt_number": 634
    },
    {
     "cell_type": "code",
     "collapsed": false,
     "input": [
      "ET_predict = ET_regressor.predict(test_X)"
     ],
     "language": "python",
     "metadata": {},
     "outputs": [],
     "prompt_number": 635
    },
    {
     "cell_type": "code",
     "collapsed": false,
     "input": [
      "print sqrt(mean_squared_error(test_y, ET_predict))\n",
      "ET_accu = ET_regressor.score(test_X, test_y)\n",
      "print(\"Accuracy: %0.2f (+/- %0.2f)\" % (ET_accu.mean(), ET_accu.std() * 2))"
     ],
     "language": "python",
     "metadata": {},
     "outputs": [
      {
       "output_type": "stream",
       "stream": "stdout",
       "text": [
        "175.83512186\n",
        "Accuracy: -1.65 (+/- 0.00)\n"
       ]
      }
     ],
     "prompt_number": 636
    },
    {
     "cell_type": "code",
     "collapsed": false,
     "input": [
      "ET_model = ET_regressor.predict(test)"
     ],
     "language": "python",
     "metadata": {},
     "outputs": [],
     "prompt_number": 637
    },
    {
     "cell_type": "code",
     "collapsed": false,
     "input": [
      "escribir_resultados(df_test, ET_model, 'ET')"
     ],
     "language": "python",
     "metadata": {},
     "outputs": [],
     "prompt_number": 638
    },
    {
     "cell_type": "markdown",
     "metadata": {},
     "source": [
      "##Theil Sen "
     ]
    },
    {
     "cell_type": "code",
     "collapsed": false,
     "input": [
      "TS_regressor = linear_model.TheilSenRegressor()\n",
      "TS_regressor.fit(train_X, train_y)"
     ],
     "language": "python",
     "metadata": {},
     "outputs": [
      {
       "metadata": {},
       "output_type": "pyout",
       "prompt_number": 639,
       "text": [
        "TheilSenRegressor(copy_X=True, fit_intercept=True, max_iter=300,\n",
        "         max_subpopulation=10000, n_jobs=1, n_subsamples=None,\n",
        "         random_state=None, tol=0.001, verbose=False)"
       ]
      }
     ],
     "prompt_number": 639
    },
    {
     "cell_type": "code",
     "collapsed": false,
     "input": [
      "TS_predict = TS_regressor.predict(test_X)"
     ],
     "language": "python",
     "metadata": {},
     "outputs": [],
     "prompt_number": 640
    },
    {
     "cell_type": "code",
     "collapsed": false,
     "input": [
      "print sqrt(mean_squared_error(test_y, TS_predict))\n",
      "TS_accu = TS_regressor.score(test_X, test_y)\n",
      "print(\"Accuracy: %0.2f (+/- %0.2f)\" % (TS_accu.mean(), TS_accu.std() * 2))"
     ],
     "language": "python",
     "metadata": {},
     "outputs": [
      {
       "output_type": "stream",
       "stream": "stdout",
       "text": [
        "82.220812381\n",
        "Accuracy: 0.42 (+/- 0.00)\n"
       ]
      }
     ],
     "prompt_number": 641
    },
    {
     "cell_type": "code",
     "collapsed": false,
     "input": [
      "TS_model = TS_regressor.predict(test)"
     ],
     "language": "python",
     "metadata": {},
     "outputs": [],
     "prompt_number": 642
    },
    {
     "cell_type": "code",
     "collapsed": false,
     "input": [
      "escribir_resultados(df_test, TS_model, 'TS')"
     ],
     "language": "python",
     "metadata": {},
     "outputs": [],
     "prompt_number": 643
    },
    {
     "cell_type": "markdown",
     "metadata": {},
     "source": [
      "##SGDRegressor"
     ]
    },
    {
     "cell_type": "code",
     "collapsed": false,
     "input": [
      "SGDR_regressor = linear_model.SGDRegressor()\n",
      "SGDR_regressor.fit(train_X, train_y)"
     ],
     "language": "python",
     "metadata": {},
     "outputs": [
      {
       "metadata": {},
       "output_type": "pyout",
       "prompt_number": 644,
       "text": [
        "SGDRegressor(alpha=0.0001, average=False, epsilon=0.1, eta0=0.01,\n",
        "       fit_intercept=True, l1_ratio=0.15, learning_rate='invscaling',\n",
        "       loss='squared_loss', n_iter=5, penalty='l2', power_t=0.25,\n",
        "       random_state=None, shuffle=True, verbose=0, warm_start=False)"
       ]
      }
     ],
     "prompt_number": 644
    },
    {
     "cell_type": "code",
     "collapsed": false,
     "input": [
      "SGDR_predict = SGDR_regressor.decision_function(test_X)"
     ],
     "language": "python",
     "metadata": {},
     "outputs": [],
     "prompt_number": 645
    },
    {
     "cell_type": "code",
     "collapsed": false,
     "input": [
      "print sqrt(mean_squared_error(test_y, SGDR_predict))\n",
      "SGDR_accu = SGDR_regressor.score(test_X, test_y)\n",
      "print(\"Accuracy: %0.2f (+/- %0.2f)\" % (SGDR_accu.mean(), SGDR_accu.std() * 2))"
     ],
     "language": "python",
     "metadata": {},
     "outputs": [
      {
       "output_type": "stream",
       "stream": "stdout",
       "text": [
        "1.18950473809e+12\n",
        "Accuracy: -121051487028984528896.00 (+/- 0.00)\n"
       ]
      }
     ],
     "prompt_number": 646
    },
    {
     "cell_type": "code",
     "collapsed": false,
     "input": [
      "#TODO ESO!! O_O .-."
     ],
     "language": "python",
     "metadata": {},
     "outputs": [],
     "prompt_number": 647
    },
    {
     "cell_type": "markdown",
     "metadata": {},
     "source": [
      "##ARD Regression"
     ]
    },
    {
     "cell_type": "code",
     "collapsed": false,
     "input": [
      "ARD_regressor = linear_model.ARDRegression(fit_intercept=False, lambda_1=1e-8, lambda_2=1e-8, \n",
      "                                           threshold_lambda=10, tol=0.008, )\n",
      "ARD_regressor.fit(train_X, train_y)"
     ],
     "language": "python",
     "metadata": {},
     "outputs": [
      {
       "metadata": {},
       "output_type": "pyout",
       "prompt_number": 648,
       "text": [
        "ARDRegression(alpha_1=1e-06, alpha_2=1e-06, compute_score=False, copy_X=True,\n",
        "       fit_intercept=False, lambda_1=1e-08, lambda_2=1e-08, n_iter=300,\n",
        "       normalize=False, threshold_lambda=10, tol=0.008, verbose=False)"
       ]
      }
     ],
     "prompt_number": 648
    },
    {
     "cell_type": "code",
     "collapsed": false,
     "input": [
      "ARD_predict = ARD_regressor.predict(test_X)"
     ],
     "language": "python",
     "metadata": {},
     "outputs": [],
     "prompt_number": 649
    },
    {
     "cell_type": "code",
     "collapsed": false,
     "input": [
      "print sqrt(mean_squared_error(test_y, ARD_predict))\n",
      "ARD_accu = ARD_regressor.score(test_X, test_y)\n",
      "print(\"Accuracy: %0.2f (+/- %0.2f)\" % (ARD_accu.mean(), ARD_accu.std() * 2))"
     ],
     "language": "python",
     "metadata": {},
     "outputs": [
      {
       "output_type": "stream",
       "stream": "stdout",
       "text": [
        "80.3335444614\n",
        "Accuracy: 0.45 (+/- 0.00)\n"
       ]
      }
     ],
     "prompt_number": 650
    },
    {
     "cell_type": "code",
     "collapsed": false,
     "input": [
      "ARD_model = ARD_regressor.predict(test)"
     ],
     "language": "python",
     "metadata": {},
     "outputs": [],
     "prompt_number": 653
    },
    {
     "cell_type": "code",
     "collapsed": false,
     "input": [
      "escribir_resultados(df_test, ARD_model, 'ARD')"
     ],
     "language": "python",
     "metadata": {},
     "outputs": [],
     "prompt_number": 654
    },
    {
     "cell_type": "markdown",
     "metadata": {},
     "source": [
      "##BayesianRidge"
     ]
    },
    {
     "cell_type": "code",
     "collapsed": false,
     "input": [
      "Byrdg_regressor = linear_model.BayesianRidge(fit_intercept=False, alpha_1=1e-3, alpha_2=1e-3, compute_score=True, copy_X=False)\n",
      "Byrdg_regressor.fit(train_X, train_y)"
     ],
     "language": "python",
     "metadata": {},
     "outputs": [
      {
       "metadata": {},
       "output_type": "pyout",
       "prompt_number": 585,
       "text": [
        "BayesianRidge(alpha_1=0.001, alpha_2=0.001, compute_score=True, copy_X=False,\n",
        "       fit_intercept=False, lambda_1=1e-06, lambda_2=1e-06, n_iter=300,\n",
        "       normalize=False, tol=0.001, verbose=False)"
       ]
      }
     ],
     "prompt_number": 585
    },
    {
     "cell_type": "code",
     "collapsed": false,
     "input": [
      "Byrdg_predict = Byrdg_regressor.predict(test_X)"
     ],
     "language": "python",
     "metadata": {},
     "outputs": [],
     "prompt_number": 586
    },
    {
     "cell_type": "code",
     "collapsed": false,
     "input": [
      "print sqrt(mean_squared_error(test_y, Byrdg_predict))\n",
      "Byrdg_accu = Byrdg_regressor.score(test_X, test_y)\n",
      "print(\"Accuracy: %0.2f (+/- %0.2f)\" % (Byrdg_accu.mean(), Byrdg_accu.std() * 2))"
     ],
     "language": "python",
     "metadata": {},
     "outputs": [
      {
       "output_type": "stream",
       "stream": "stdout",
       "text": [
        "106.561459112\n",
        "Accuracy: 0.03 (+/- 0.00)\n"
       ]
      }
     ],
     "prompt_number": 587
    },
    {
     "cell_type": "markdown",
     "metadata": {},
     "source": [
      "####No funciona mucho al parecer :S"
     ]
    },
    {
     "cell_type": "markdown",
     "metadata": {},
     "source": [
      "##ElasticNet"
     ]
    },
    {
     "cell_type": "code",
     "collapsed": false,
     "input": [
      "EN_regressor=linear_model.ElasticNet(fit_intercept=False)\n",
      "EN_regressor.fit(train_X, train_y)"
     ],
     "language": "python",
     "metadata": {},
     "outputs": [
      {
       "metadata": {},
       "output_type": "pyout",
       "prompt_number": 588,
       "text": [
        "ElasticNet(alpha=1.0, copy_X=True, fit_intercept=False, l1_ratio=0.5,\n",
        "      max_iter=1000, normalize=False, positive=False, precompute=False,\n",
        "      random_state=None, selection='cyclic', tol=0.0001, warm_start=False)"
       ]
      }
     ],
     "prompt_number": 588
    },
    {
     "cell_type": "code",
     "collapsed": false,
     "input": [
      "EN_predict = EN_regressor.predict(test_X)"
     ],
     "language": "python",
     "metadata": {},
     "outputs": [],
     "prompt_number": 589
    },
    {
     "cell_type": "code",
     "collapsed": false,
     "input": [
      "print sqrt(mean_squared_error(test_y, EN_predict))\n",
      "EN_accu = EN_regressor.score(test_X, test_y)\n",
      "print(\"Accuracy: %0.2f (+/- %0.2f)\" % (EN_accu.mean(), EN_accu.std() * 2))"
     ],
     "language": "python",
     "metadata": {},
     "outputs": [
      {
       "output_type": "stream",
       "stream": "stdout",
       "text": [
        "118.857140063\n",
        "Accuracy: -0.21 (+/- 0.00)\n"
       ]
      }
     ],
     "prompt_number": 602
    },
    {
     "cell_type": "markdown",
     "metadata": {},
     "source": [
      "###Tampoco funciona tann bien"
     ]
    },
    {
     "cell_type": "markdown",
     "metadata": {},
     "source": [
      "##ElasticNetCV"
     ]
    },
    {
     "cell_type": "code",
     "collapsed": false,
     "input": [
      "ENCV_regressor = linear_model.ElasticNetCV(cv=4)\n",
      "ENCV_regressor.fit(test_X, test_y)"
     ],
     "language": "python",
     "metadata": {},
     "outputs": [
      {
       "metadata": {},
       "output_type": "pyout",
       "prompt_number": 599,
       "text": [
        "ElasticNetCV(alphas=None, copy_X=True, cv=4, eps=0.001, fit_intercept=True,\n",
        "       l1_ratio=0.5, max_iter=1000, n_alphas=100, n_jobs=1,\n",
        "       normalize=False, positive=False, precompute='auto',\n",
        "       random_state=None, selection='cyclic', tol=0.0001, verbose=0)"
       ]
      }
     ],
     "prompt_number": 599
    },
    {
     "cell_type": "code",
     "collapsed": false,
     "input": [
      "ENCV_predict = ENCV_regressor.predict(test_X)"
     ],
     "language": "python",
     "metadata": {},
     "outputs": [],
     "prompt_number": 600
    },
    {
     "cell_type": "code",
     "collapsed": false,
     "input": [
      "print sqrt(mean_squared_error(test_y, ENCV_predict))\n",
      "ENCV_accu = ENCV_regressor.score(test_X, test_y)\n",
      "print(\"Accuracy: %0.2f (+/- %0.2f)\" % (ENCV_accu.mean(), ENCV_accu.std() * 2))"
     ],
     "language": "python",
     "metadata": {},
     "outputs": [
      {
       "output_type": "stream",
       "stream": "stdout",
       "text": [
        "69.9043053449\n",
        "Accuracy: 0.58 (+/- 0.00)\n"
       ]
      }
     ],
     "prompt_number": 601
    },
    {
     "cell_type": "code",
     "collapsed": false,
     "input": [
      "ENCV_model = ENCV_regressor.predict(test)"
     ],
     "language": "python",
     "metadata": {},
     "outputs": [],
     "prompt_number": 603
    },
    {
     "cell_type": "code",
     "collapsed": false,
     "input": [
      "escribir_resultados(df_test, ENCV_model, 'ENCV')"
     ],
     "language": "python",
     "metadata": {},
     "outputs": [],
     "prompt_number": 604
    },
    {
     "cell_type": "code",
     "collapsed": false,
     "input": [],
     "language": "python",
     "metadata": {},
     "outputs": [],
     "prompt_number": 595
    },
    {
     "cell_type": "code",
     "collapsed": false,
     "input": [],
     "language": "python",
     "metadata": {},
     "outputs": []
    }
   ],
   "metadata": {}
  }
 ]
}